{
 "cells": [
  {
   "cell_type": "code",
   "execution_count": 4,
   "metadata": {},
   "outputs": [],
   "source": [
    "import sys\n",
    "from pprint import pprint"
   ]
  },
  {
   "cell_type": "code",
   "execution_count": 3,
   "metadata": {},
   "outputs": [
    {
     "name": "stdout",
     "output_type": "stream",
     "text": [
      "3.6.7 (default, Dec  6 2019, 07:03:06) [MSC v.1900 64 bit (AMD64)]\n"
     ]
    }
   ],
   "source": [
    "print(sys.version)"
   ]
  },
  {
   "cell_type": "code",
   "execution_count": 5,
   "metadata": {},
   "outputs": [
    {
     "name": "stdout",
     "output_type": "stream",
     "text": [
      "['D:\\\\condaenvs\\\\dev\\\\python36.zip',\n",
      " 'D:\\\\condaenvs\\\\dev\\\\DLLs',\n",
      " 'D:\\\\condaenvs\\\\dev\\\\lib',\n",
      " 'D:\\\\condaenvs\\\\dev',\n",
      " '',\n",
      " 'C:\\\\Users\\\\ville_000\\\\AppData\\\\Roaming\\\\Python\\\\Python36\\\\site-packages',\n",
      " 'D:\\\\condaenvs\\\\dev\\\\lib\\\\site-packages',\n",
      " 'D:\\\\condaenvs\\\\dev\\\\lib\\\\site-packages\\\\win32',\n",
      " 'D:\\\\condaenvs\\\\dev\\\\lib\\\\site-packages\\\\win32\\\\lib',\n",
      " 'D:\\\\condaenvs\\\\dev\\\\lib\\\\site-packages\\\\Pythonwin',\n",
      " 'D:\\\\condaenvs\\\\dev\\\\lib\\\\site-packages\\\\IPython\\\\extensions',\n",
      " 'C:\\\\Users\\\\ville_000\\\\.ipython']\n"
     ]
    }
   ],
   "source": [
    "pprint(sys.path)"
   ]
  },
  {
   "cell_type": "code",
   "execution_count": 6,
   "metadata": {},
   "outputs": [],
   "source": [
    "import pystan"
   ]
  },
  {
   "cell_type": "code",
   "execution_count": null,
   "metadata": {},
   "outputs": [],
   "source": []
  }
 ],
 "metadata": {
  "kernelspec": {
   "display_name": "Python 3",
   "language": "python",
   "name": "python3"
  },
  "language_info": {
   "codemirror_mode": {
    "name": "ipython",
    "version": 3
   },
   "file_extension": ".py",
   "mimetype": "text/x-python",
   "name": "python",
   "nbconvert_exporter": "python",
   "pygments_lexer": "ipython3",
   "version": "3.6.7"
  }
 },
 "nbformat": 4,
 "nbformat_minor": 4
}
