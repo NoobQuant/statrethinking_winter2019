{
 "cells": [
  {
   "cell_type": "markdown",
   "metadata": {},
   "source": [
    "# Homework 3"
   ]
  },
  {
   "cell_type": "code",
   "execution_count": 1,
   "metadata": {},
   "outputs": [],
   "source": [
    "import rpy2\n",
    "import numpy as np\n",
    "import pandas as pd\n",
    "pd.set_option('display.float_format', lambda x: '%.2f' % x)\n",
    "import matplotlib.pyplot as plt\n",
    "import seaborn as sns\n",
    "from sklearn.preprocessing import StandardScaler\n",
    "np.random.seed(1337)\n",
    "%load_ext rpy2.ipython"
   ]
  },
  {
   "cell_type": "code",
   "execution_count": 2,
   "metadata": {},
   "outputs": [
    {
     "name": "stderr",
     "output_type": "stream",
     "text": [
      "D:\\condaenvs\\dev\\lib\\site-packages\\rpy2\\robjects\\pandas2ri.py:191: FutureWarning: from_items is deprecated. Please use DataFrame.from_dict(dict(items), ...) instead. DataFrame.from_dict(OrderedDict(items)) may be used to preserve the key order.\n",
      "  res = PandasDataFrame.from_items(items)\n"
     ]
    }
   ],
   "source": [
    "%%R -o data\n",
    "# Make sure we have correct R library path\n",
    ".libPaths(\"C:/Users/ville_000/Documents/R/win-library/3.6\")\n",
    "library(rethinking)\n",
    "library(dagitty)\n",
    "data(foxes)\n",
    "data = foxes"
   ]
  },
  {
   "cell_type": "markdown",
   "metadata": {},
   "source": [
    "## Overal info"
   ]
  },
  {
   "cell_type": "markdown",
   "metadata": {},
   "source": [
    "All three problems below are based on the same data. The data in data(foxes) are 116 foxes from 30 different urban groups in England. These foxes are like\n",
    " street gangs. Group size varies from 2 to 8 individuals. Each group maintains its own (almost exclusive) urban territory. Some territories are larger than others. The area variable encodes this information. Some territories also have more avgfood than others. We want to model the weight of each fox. For the problems below, assume this DAG:"
   ]
  },
  {
   "cell_type": "code",
   "execution_count": 13,
   "metadata": {},
   "outputs": [
    {
     "data": {
      "image/png": "[encoded data removed]"
     },
     "metadata": {},
     "output_type": "display_data"
    }
   ],
   "source": [
    "%%R -w 300 -h 200 -u px\n",
    "mydag = dagitty(\"dag{\n",
    "    area -> avgfood\n",
    "    avgfood -> groupsize\n",
    "    avgfood -> weight\n",
    "    groupsize -> weight\n",
    "}\")\n",
    "coordinates(mydag) = list(x=c(area=2, avgfood=1, groupsize=3, weight=2),\n",
    "                          y=c(area=0, avgfood=1, groupsize=1, weight=2))\n",
    "drawdag(mydag)"
   ]
  },
  {
   "cell_type": "markdown",
   "metadata": {},
   "source": [
    "## Dataset EDA"
   ]
  },
  {
   "cell_type": "code",
   "execution_count": 35,
   "metadata": {},
   "outputs": [
    {
     "data": {
      "text/html": [
       "<div>\n",
       "<style scoped>\n",
       "    .dataframe tbody tr th:only-of-type {\n",
       "        vertical-align: middle;\n",
       "    }\n",
       "\n",
       "    .dataframe tbody tr th {\n",
       "        vertical-align: top;\n",
       "    }\n",
       "\n",
       "    .dataframe thead th {\n",
       "        text-align: right;\n",
       "    }\n",
       "</style>\n",
       "<table border=\"1\" class=\"dataframe\">\n",
       "  <thead>\n",
       "    <tr style=\"text-align: right;\">\n",
       "      <th></th>\n",
       "      <th>group</th>\n",
       "      <th>avgfood</th>\n",
       "      <th>groupsize</th>\n",
       "      <th>area</th>\n",
       "      <th>weight</th>\n",
       "      <th>avgfood_s</th>\n",
       "    </tr>\n",
       "  </thead>\n",
       "  <tbody>\n",
       "    <tr>\n",
       "      <th>0</th>\n",
       "      <td>1</td>\n",
       "      <td>0.37</td>\n",
       "      <td>2</td>\n",
       "      <td>1.09</td>\n",
       "      <td>5.02</td>\n",
       "      <td>-1.93</td>\n",
       "    </tr>\n",
       "    <tr>\n",
       "      <th>1</th>\n",
       "      <td>1</td>\n",
       "      <td>0.37</td>\n",
       "      <td>2</td>\n",
       "      <td>1.09</td>\n",
       "      <td>2.84</td>\n",
       "      <td>-1.93</td>\n",
       "    </tr>\n",
       "    <tr>\n",
       "      <th>2</th>\n",
       "      <td>2</td>\n",
       "      <td>0.53</td>\n",
       "      <td>2</td>\n",
       "      <td>2.05</td>\n",
       "      <td>5.33</td>\n",
       "      <td>-1.12</td>\n",
       "    </tr>\n",
       "    <tr>\n",
       "      <th>3</th>\n",
       "      <td>2</td>\n",
       "      <td>0.53</td>\n",
       "      <td>2</td>\n",
       "      <td>2.05</td>\n",
       "      <td>6.07</td>\n",
       "      <td>-1.12</td>\n",
       "    </tr>\n",
       "    <tr>\n",
       "      <th>4</th>\n",
       "      <td>3</td>\n",
       "      <td>0.49</td>\n",
       "      <td>2</td>\n",
       "      <td>2.12</td>\n",
       "      <td>5.85</td>\n",
       "      <td>-1.33</td>\n",
       "    </tr>\n",
       "  </tbody>\n",
       "</table>\n",
       "</div>"
      ],
      "text/plain": [
       "   group  avgfood  groupsize  area  weight  avgfood_s\n",
       "0      1     0.37          2  1.09    5.02      -1.93\n",
       "1      1     0.37          2  1.09    2.84      -1.93\n",
       "2      2     0.53          2  2.05    5.33      -1.12\n",
       "3      2     0.53          2  2.05    6.07      -1.12\n",
       "4      3     0.49          2  2.12    5.85      -1.33"
      ]
     },
     "execution_count": 35,
     "metadata": {},
     "output_type": "execute_result"
    }
   ],
   "source": [
    "data.head(5)"
   ]
  },
  {
   "cell_type": "code",
   "execution_count": 25,
   "metadata": {},
   "outputs": [
    {
     "data": {
      "image/png": "[encoded data removed]",
      "text/plain": [
       "<Figure size 608.4x468 with 30 Axes>"
      ]
     },
     "metadata": {
      "needs_background": "light"
     },
     "output_type": "display_data"
    }
   ],
   "source": [
    "_ = sns.pairplot(data, diag_kind = 'hist', height=1.3, aspect=1.3, plot_kws={\"s\": 8})"
   ]
  },
  {
   "cell_type": "markdown",
   "metadata": {},
   "source": [
    "## Question 1"
   ]
  },
  {
   "cell_type": "markdown",
   "metadata": {},
   "source": [
    "*Use a model to infer the total causal influence of area on weight. Would increasing the area available to each fox make it heavier (healthier)? You might want to standardize the variables. Regardless, use prior predictive simulation to show that your model’s prior predictions stay within the possible outcome range.*"
   ]
  },
  {
   "cell_type": "markdown",
   "metadata": {},
   "source": [
    "First define\n",
    "\n",
    "\\begin{align}\n",
    "W &: \\text{weight} \\\\\n",
    "A &: \\text{area} (standardized) \\\\\n",
    "F &: \\text{avgfood (standardized)} \\\\\n",
    "G &: \\text{groupsize}\n",
    "\\end{align}\n",
    "\n",
    "*\"Standardized\"* means standardizing the variable in the regression by taking a z-score. \n",
    "\n",
    "Let's try following OLS linear regression model.\n",
    "\n",
    "$$W = \\alpha + \\beta_1 A + \\beta_2 F + \\beta_3 G + \\epsilon \\ ,$$\n",
    "\n",
    "where $\\epsilon \\sim N(0,\\sigma)$. In the language of the course we rewrite above and add priors:\n",
    "\n",
    "\\begin{align}\n",
    "W \\sim N(\\mu_W \\sigma) \\qquad & \\text{likelihood} \\\\\n",
    "\\mu_W = \\alpha_{G[i]} + \\beta_1 A + \\beta_2 F \\qquad & \\text{linear model}  \\\\\n",
    "\\alpha_{G[i]} \\sim x \\ \\text{for } i=1, \\dots  \\qquad & \\text{prior}  \\\\\n",
    "\\beta_1 \\sim x \\qquad & \\text{prior} \\\\\n",
    "\\beta_2 \\sim x \\qquad & \\text{prior} \\\\\n",
    "\\sigma \\sim x \\qquad & \\text{prior}  \\\\\n",
    "\\end{align}\n",
    "\n",
    "Note that we treat $G$ as a categorical indicator *variable*, leading to multiple intercept parameters $\\alpha_{G[i]}$. It is integer-encoded, not dummy encoded. This is how it was instructed in the book and lessons. However, I do not understand how *quap* handles this under the hood; how come would there not be ordinality involved with integer-encoded variable? How do we fit two separate intercepts?? "
   ]
  },
  {
   "cell_type": "code",
   "execution_count": 39,
   "metadata": {},
   "outputs": [
    {
     "data": {
      "text/html": [
       "<div>\n",
       "<style scoped>\n",
       "    .dataframe tbody tr th:only-of-type {\n",
       "        vertical-align: middle;\n",
       "    }\n",
       "\n",
       "    .dataframe tbody tr th {\n",
       "        vertical-align: top;\n",
       "    }\n",
       "\n",
       "    .dataframe thead th {\n",
       "        text-align: right;\n",
       "    }\n",
       "</style>\n",
       "<table border=\"1\" class=\"dataframe\">\n",
       "  <thead>\n",
       "    <tr style=\"text-align: right;\">\n",
       "      <th></th>\n",
       "      <th>group</th>\n",
       "      <th>avgfood</th>\n",
       "      <th>groupsize</th>\n",
       "      <th>area</th>\n",
       "      <th>weight</th>\n",
       "      <th>avgfood_s</th>\n",
       "      <th>area_s</th>\n",
       "    </tr>\n",
       "  </thead>\n",
       "  <tbody>\n",
       "    <tr>\n",
       "      <th>0</th>\n",
       "      <td>1</td>\n",
       "      <td>0.37</td>\n",
       "      <td>2</td>\n",
       "      <td>1.09</td>\n",
       "      <td>5.02</td>\n",
       "      <td>-1.93</td>\n",
       "      <td>-2.25</td>\n",
       "    </tr>\n",
       "  </tbody>\n",
       "</table>\n",
       "</div>"
      ],
      "text/plain": [
       "   group  avgfood  groupsize  area  weight  avgfood_s  area_s\n",
       "0      1     0.37          2  1.09    5.02      -1.93   -2.25"
      ]
     },
     "execution_count": 39,
     "metadata": {},
     "output_type": "execute_result"
    }
   ],
   "source": [
    "data['area_s'] = StandardScaler().fit_transform(data[['area']].values)\n",
    "data['avgfood_s'] = StandardScaler().fit_transform(data[['avgfood']].values)\n",
    "data.head(1)"
   ]
  },
  {
   "cell_type": "code",
   "execution_count": 41,
   "metadata": {},
   "outputs": [
    {
     "name": "stderr",
     "output_type": "stream",
     "text": [
      "D:\\condaenvs\\dev\\lib\\site-packages\\rpy2\\robjects\\pandas2ri.py:191: FutureWarning: from_items is deprecated. Please use DataFrame.from_dict(dict(items), ...) instead. DataFrame.from_dict(OrderedDict(items)) may be used to preserve the key order.\n",
      "  res = PandasDataFrame.from_items(items)\n"
     ]
    }
   ],
   "source": [
    "%%R -i data\n",
    "m1 = quap(\n",
    "    alist(\n",
    "        weight ~ dnorm(mu_W, sigma),\n",
    "        mu_W <- a[group] + b1*area_s + b2*avgfood_s,\n",
    "        a[group] ~  dnorm(0, 1),\n",
    "        b1 ~  dnorm(0, 1),\n",
    "        b2 ~  dnorm(0, 1),\n",
    "        sigma ~ dunif(0,50)\n",
    "    ),\n",
    "    data=data\n",
    ")"
   ]
  },
  {
   "cell_type": "code",
   "execution_count": null,
   "metadata": {},
   "outputs": [],
   "source": []
  }
 ],
 "metadata": {
  "kernelspec": {
   "display_name": "Py (dev)",
   "language": "python",
   "name": "dev"
  },
  "language_info": {
   "codemirror_mode": {
    "name": "ipython",
    "version": 3
   },
   "file_extension": ".py",
   "mimetype": "text/x-python",
   "name": "python",
   "nbconvert_exporter": "python",
   "pygments_lexer": "ipython3",
   "version": "3.6.7"
  }
 },
 "nbformat": 4,
 "nbformat_minor": 4
}
